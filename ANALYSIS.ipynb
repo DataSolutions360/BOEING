{
 "cells": [
  {
   "cell_type": "code",
   "execution_count": 1,
   "metadata": {},
   "outputs": [
    {
     "name": "stdout",
     "output_type": "stream",
     "text": [
      "Requirement already satisfied: xgboost in c:\\users\\18482\\anaconda3\\lib\\site-packages (1.6.1)\n",
      "Requirement already satisfied: numpy in c:\\users\\18482\\anaconda3\\lib\\site-packages (from xgboost) (1.19.1)\n",
      "Requirement already satisfied: scipy in c:\\users\\18482\\anaconda3\\lib\\site-packages (from xgboost) (1.5.2)\n",
      "Requirement already satisfied: sklearn in c:\\users\\18482\\anaconda3\\lib\\site-packages (0.0)\n",
      "Requirement already satisfied: scikit-learn in c:\\users\\18482\\anaconda3\\lib\\site-packages (from sklearn) (0.23.2)\n",
      "Requirement already satisfied: joblib>=0.11 in c:\\users\\18482\\anaconda3\\lib\\site-packages (from scikit-learn->sklearn) (0.16.0)\n",
      "Requirement already satisfied: threadpoolctl>=2.0.0 in c:\\users\\18482\\anaconda3\\lib\\site-packages (from scikit-learn->sklearn) (2.1.0)\n",
      "Requirement already satisfied: scipy>=0.19.1 in c:\\users\\18482\\anaconda3\\lib\\site-packages (from scikit-learn->sklearn) (1.5.2)\n",
      "Requirement already satisfied: numpy>=1.13.3 in c:\\users\\18482\\anaconda3\\lib\\site-packages (from scikit-learn->sklearn) (1.19.1)\n",
      "Requirement already satisfied: hyperopt in c:\\users\\18482\\anaconda3\\lib\\site-packages (0.2.7)\n",
      "Requirement already satisfied: networkx>=2.2 in c:\\users\\18482\\anaconda3\\lib\\site-packages (from hyperopt) (2.5)\n",
      "Requirement already satisfied: cloudpickle in c:\\users\\18482\\anaconda3\\lib\\site-packages (from hyperopt) (1.6.0)\n",
      "Requirement already satisfied: py4j in c:\\users\\18482\\anaconda3\\lib\\site-packages (from hyperopt) (0.10.9.5)\n",
      "Requirement already satisfied: scipy in c:\\users\\18482\\anaconda3\\lib\\site-packages (from hyperopt) (1.5.2)\n",
      "Requirement already satisfied: future in c:\\users\\18482\\anaconda3\\lib\\site-packages (from hyperopt) (0.18.2)\n",
      "Requirement already satisfied: tqdm in c:\\users\\18482\\anaconda3\\lib\\site-packages (from hyperopt) (4.48.2)\n",
      "Requirement already satisfied: numpy in c:\\users\\18482\\anaconda3\\lib\\site-packages (from hyperopt) (1.19.1)\n",
      "Requirement already satisfied: six in c:\\users\\18482\\anaconda3\\lib\\site-packages (from hyperopt) (1.15.0)\n",
      "Requirement already satisfied: decorator>=4.3.0 in c:\\users\\18482\\anaconda3\\lib\\site-packages (from networkx>=2.2->hyperopt) (4.4.2)\n"
     ]
    },
    {
     "name": "stderr",
     "output_type": "stream",
     "text": [
      "ERROR: Could not find a version that satisfies the requirement preprocess_features (from versions: none)\n",
      "ERROR: No matching distribution found for preprocess_features\n"
     ]
    },
    {
     "name": "stdout",
     "output_type": "stream",
     "text": [
      "Requirement already up-to-date: seaborn in c:\\users\\18482\\anaconda3\\lib\\site-packages (0.11.2)\n",
      "Requirement already satisfied, skipping upgrade: pandas>=0.23 in c:\\users\\18482\\anaconda3\\lib\\site-packages (from seaborn) (1.1.1)\n",
      "Requirement already satisfied, skipping upgrade: scipy>=1.0 in c:\\users\\18482\\anaconda3\\lib\\site-packages (from seaborn) (1.5.2)\n",
      "Requirement already satisfied, skipping upgrade: numpy>=1.15 in c:\\users\\18482\\anaconda3\\lib\\site-packages (from seaborn) (1.19.1)\n",
      "Requirement already satisfied, skipping upgrade: matplotlib>=2.2 in c:\\users\\18482\\anaconda3\\lib\\site-packages (from seaborn) (3.3.1)\n",
      "Requirement already satisfied, skipping upgrade: pytz>=2017.2 in c:\\users\\18482\\anaconda3\\lib\\site-packages (from pandas>=0.23->seaborn) (2020.1)\n",
      "Requirement already satisfied, skipping upgrade: python-dateutil>=2.7.3 in c:\\users\\18482\\anaconda3\\lib\\site-packages (from pandas>=0.23->seaborn) (2.8.1)\n",
      "Requirement already satisfied, skipping upgrade: certifi>=2020.06.20 in c:\\users\\18482\\anaconda3\\lib\\site-packages (from matplotlib>=2.2->seaborn) (2021.10.8)\n",
      "Requirement already satisfied, skipping upgrade: kiwisolver>=1.0.1 in c:\\users\\18482\\anaconda3\\lib\\site-packages (from matplotlib>=2.2->seaborn) (1.2.0)\n",
      "Requirement already satisfied, skipping upgrade: pillow>=6.2.0 in c:\\users\\18482\\anaconda3\\lib\\site-packages (from matplotlib>=2.2->seaborn) (7.2.0)\n",
      "Requirement already satisfied, skipping upgrade: pyparsing!=2.0.4,!=2.1.2,!=2.1.6,>=2.0.3 in c:\\users\\18482\\anaconda3\\lib\\site-packages (from matplotlib>=2.2->seaborn) (2.4.7)\n",
      "Requirement already satisfied, skipping upgrade: cycler>=0.10 in c:\\users\\18482\\anaconda3\\lib\\site-packages (from matplotlib>=2.2->seaborn) (0.10.0)\n",
      "Requirement already satisfied, skipping upgrade: six>=1.5 in c:\\users\\18482\\anaconda3\\lib\\site-packages (from python-dateutil>=2.7.3->pandas>=0.23->seaborn) (1.15.0)\n"
     ]
    }
   ],
   "source": [
    "!pip install xgboost\n",
    "!pip install sklearn\n",
    "!pip install hyperopt\n",
    "!pip install preprocess_features\n",
    "!pip install -U seaborn"
   ]
  },
  {
   "cell_type": "code",
   "execution_count": 2,
   "metadata": {},
   "outputs": [],
   "source": [
    "import pandas as pd\n",
    "import numpy as np\n",
    "import matplotlib.pyplot as plt\n",
    "import seaborn as sns\n",
    "\n",
    "import statsmodels.api as sm\n",
    "import xgboost as xgb\n",
    "from xgboost.sklearn import (XGBClassifier, XGBRegressor)\n",
    "\n",
    "from sklearn.metrics import (r2_score,\n",
    "                            mean_squared_error,\n",
    "                            median_absolute_error,\n",
    "                            roc_auc_score,\n",
    "                            auc,\n",
    "                            classification_report,\n",
    "                            confusion_matrix,\n",
    "                            roc_curve)\n",
    "\n",
    "from sklearn.pipeline import Pipeline\n",
    "from sklearn.feature_extraction.text import TfidfVectorizer\n",
    "from sklearn.feature_selection import (mutual_info_classif,\n",
    "                                       mutual_info_regression)\n",
    "from sklearn.preprocessing import (OneHotEncoder,\n",
    "                                  StandardScaler,\n",
    "                                  LabelEncoder,\n",
    "                                  label_binarize)\n",
    "\n",
    "from sklearn.decomposition import PCA\n",
    "from sklearn.manifold import TSNE\n",
    "from sklearn.model_selection import (KFold,\n",
    "                                    train_test_split)\n",
    "\n",
    "import hyperopt\n",
    "from hyperopt import fmin, tpe, hp, STATUS_OK, Trials"
   ]
  },
  {
   "cell_type": "code",
   "execution_count": 3,
   "metadata": {},
   "outputs": [],
   "source": [
    "##from preprocess_features import *\n",
    "##from visual_functions import *\n",
    "##from hyperparameter_tuning import *"
   ]
  },
  {
   "cell_type": "code",
   "execution_count": 4,
   "metadata": {},
   "outputs": [],
   "source": [
    "import warnings\n",
    "warnings.filterwarnings('ignore')"
   ]
  },
  {
   "cell_type": "code",
   "execution_count": 5,
   "metadata": {},
   "outputs": [],
   "source": [
    "sns.set_style('whitegrid')"
   ]
  },
  {
   "cell_type": "markdown",
   "metadata": {},
   "source": [
    "### Load Data"
   ]
  },
  {
   "cell_type": "code",
   "execution_count": 6,
   "metadata": {},
   "outputs": [],
   "source": [
    "Test = pd.read_csv(\"Test_Dataset.csv\")\n",
    "Train = pd.read_csv(\"Training_Dataset.csv\")"
   ]
  },
  {
   "cell_type": "code",
   "execution_count": 7,
   "metadata": {},
   "outputs": [
    {
     "name": "stdout",
     "output_type": "stream",
     "text": [
      "<class 'pandas.core.frame.DataFrame'>\n",
      "RangeIndex: 6298 entries, 0 to 6297\n",
      "Data columns (total 29 columns):\n",
      " #   Column                Non-Null Count  Dtype  \n",
      "---  ------                --------------  -----  \n",
      " 0   ListingID             6298 non-null   int64  \n",
      " 1   SellerCity            6298 non-null   object \n",
      " 2   SellerIsPriv          6298 non-null   bool   \n",
      " 3   SellerListSrc         6296 non-null   object \n",
      " 4   SellerName            6298 non-null   object \n",
      " 5   SellerRating          6298 non-null   float64\n",
      " 6   SellerRevCnt          6298 non-null   int64  \n",
      " 7   SellerState           6298 non-null   object \n",
      " 8   SellerZip             6296 non-null   float64\n",
      " 9   VehBodystyle          6298 non-null   object \n",
      " 10  VehCertified          6298 non-null   bool   \n",
      " 11  VehColorExt           6225 non-null   object \n",
      " 12  VehColorInt           5570 non-null   object \n",
      " 13  VehDriveTrain         5897 non-null   object \n",
      " 14  VehEngine             5937 non-null   object \n",
      " 15  VehFeats              6023 non-null   object \n",
      " 16  VehFuel               6296 non-null   object \n",
      " 17  VehHistory            6097 non-null   object \n",
      " 18  VehListdays           6296 non-null   float64\n",
      " 19  VehMake               6298 non-null   object \n",
      " 20  VehMileage            6296 non-null   float64\n",
      " 21  VehModel              6298 non-null   object \n",
      " 22  VehPriceLabel         6013 non-null   object \n",
      " 23  VehSellerNotes        6055 non-null   object \n",
      " 24  VehType               6298 non-null   object \n",
      " 25  VehTransmission       6101 non-null   object \n",
      " 26  VehYear               6298 non-null   int64  \n",
      " 27  Vehicle_Trim          5893 non-null   object \n",
      " 28  Dealer_Listing_Price  6246 non-null   float64\n",
      "dtypes: bool(2), float64(5), int64(3), object(19)\n",
      "memory usage: 1.3+ MB\n"
     ]
    }
   ],
   "source": [
    "Train.info()"
   ]
  },
  {
   "cell_type": "code",
   "execution_count": 8,
   "metadata": {},
   "outputs": [],
   "source": [
    "Train=Train.set_index('ListingID')"
   ]
  },
  {
   "cell_type": "code",
   "execution_count": 9,
   "metadata": {},
   "outputs": [
    {
     "data": {
      "text/html": [
       "<div>\n",
       "<style scoped>\n",
       "    .dataframe tbody tr th:only-of-type {\n",
       "        vertical-align: middle;\n",
       "    }\n",
       "\n",
       "    .dataframe tbody tr th {\n",
       "        vertical-align: top;\n",
       "    }\n",
       "\n",
       "    .dataframe thead th {\n",
       "        text-align: right;\n",
       "    }\n",
       "</style>\n",
       "<table border=\"1\" class=\"dataframe\">\n",
       "  <thead>\n",
       "    <tr style=\"text-align: right;\">\n",
       "      <th></th>\n",
       "      <th>SellerCity</th>\n",
       "      <th>SellerIsPriv</th>\n",
       "      <th>SellerListSrc</th>\n",
       "      <th>SellerName</th>\n",
       "      <th>SellerRating</th>\n",
       "      <th>SellerRevCnt</th>\n",
       "      <th>SellerState</th>\n",
       "      <th>SellerZip</th>\n",
       "      <th>VehBodystyle</th>\n",
       "      <th>VehCertified</th>\n",
       "      <th>...</th>\n",
       "      <th>VehMake</th>\n",
       "      <th>VehMileage</th>\n",
       "      <th>VehModel</th>\n",
       "      <th>VehPriceLabel</th>\n",
       "      <th>VehSellerNotes</th>\n",
       "      <th>VehType</th>\n",
       "      <th>VehTransmission</th>\n",
       "      <th>VehYear</th>\n",
       "      <th>Vehicle_Trim</th>\n",
       "      <th>Dealer_Listing_Price</th>\n",
       "    </tr>\n",
       "    <tr>\n",
       "      <th>ListingID</th>\n",
       "      <th></th>\n",
       "      <th></th>\n",
       "      <th></th>\n",
       "      <th></th>\n",
       "      <th></th>\n",
       "      <th></th>\n",
       "      <th></th>\n",
       "      <th></th>\n",
       "      <th></th>\n",
       "      <th></th>\n",
       "      <th></th>\n",
       "      <th></th>\n",
       "      <th></th>\n",
       "      <th></th>\n",
       "      <th></th>\n",
       "      <th></th>\n",
       "      <th></th>\n",
       "      <th></th>\n",
       "      <th></th>\n",
       "      <th></th>\n",
       "      <th></th>\n",
       "    </tr>\n",
       "  </thead>\n",
       "  <tbody>\n",
       "    <tr>\n",
       "      <th>3287</th>\n",
       "      <td>Warren</td>\n",
       "      <td>False</td>\n",
       "      <td>Inventory Command Center</td>\n",
       "      <td>Prime Motorz</td>\n",
       "      <td>5.0</td>\n",
       "      <td>32</td>\n",
       "      <td>MI</td>\n",
       "      <td>48091.0</td>\n",
       "      <td>SUV</td>\n",
       "      <td>False</td>\n",
       "      <td>...</td>\n",
       "      <td>Jeep</td>\n",
       "      <td>39319.0</td>\n",
       "      <td>Grand Cherokee</td>\n",
       "      <td>Fair Price</td>\n",
       "      <td>NaN</td>\n",
       "      <td>Used</td>\n",
       "      <td>Automatic 8-Speed</td>\n",
       "      <td>2015</td>\n",
       "      <td>High Altitude</td>\n",
       "      <td>30990.0</td>\n",
       "    </tr>\n",
       "    <tr>\n",
       "      <th>3920</th>\n",
       "      <td>Fargo</td>\n",
       "      <td>False</td>\n",
       "      <td>Cadillac Certified Program</td>\n",
       "      <td>Gateway Chevrolet Cadillac</td>\n",
       "      <td>4.8</td>\n",
       "      <td>1456</td>\n",
       "      <td>ND</td>\n",
       "      <td>58103.0</td>\n",
       "      <td>SUV</td>\n",
       "      <td>True</td>\n",
       "      <td>...</td>\n",
       "      <td>Cadillac</td>\n",
       "      <td>30352.0</td>\n",
       "      <td>XT5</td>\n",
       "      <td>Good Deal</td>\n",
       "      <td>Come take a look at our great pre-owned invent...</td>\n",
       "      <td>Used</td>\n",
       "      <td>NaN</td>\n",
       "      <td>2017</td>\n",
       "      <td>NaN</td>\n",
       "      <td>34860.0</td>\n",
       "    </tr>\n",
       "    <tr>\n",
       "      <th>4777</th>\n",
       "      <td>Waukesha</td>\n",
       "      <td>False</td>\n",
       "      <td>Jeep Certified Program</td>\n",
       "      <td>Wilde Chrysler Jeep Dodge Ram &amp;amp; Subaru</td>\n",
       "      <td>4.8</td>\n",
       "      <td>1405</td>\n",
       "      <td>WI</td>\n",
       "      <td>53186.0</td>\n",
       "      <td>SUV</td>\n",
       "      <td>True</td>\n",
       "      <td>...</td>\n",
       "      <td>Jeep</td>\n",
       "      <td>38957.0</td>\n",
       "      <td>Grand Cherokee</td>\n",
       "      <td>Good Deal</td>\n",
       "      <td>Backed by a rigorous 125-point inspection by f...</td>\n",
       "      <td>Used</td>\n",
       "      <td>8-Speed Automatic w/OD</td>\n",
       "      <td>2015</td>\n",
       "      <td>Laredo</td>\n",
       "      <td>23249.0</td>\n",
       "    </tr>\n",
       "    <tr>\n",
       "      <th>6242</th>\n",
       "      <td>Wentzville</td>\n",
       "      <td>False</td>\n",
       "      <td>Inventory Command Center</td>\n",
       "      <td>Century Dodge Chrysler Jeep RAM</td>\n",
       "      <td>4.4</td>\n",
       "      <td>21</td>\n",
       "      <td>MO</td>\n",
       "      <td>63385.0</td>\n",
       "      <td>SUV</td>\n",
       "      <td>False</td>\n",
       "      <td>...</td>\n",
       "      <td>Jeep</td>\n",
       "      <td>20404.0</td>\n",
       "      <td>Grand Cherokee</td>\n",
       "      <td>Good Deal</td>\n",
       "      <td>Drop by to see us and you will quickly see how...</td>\n",
       "      <td>Used</td>\n",
       "      <td>Automatic</td>\n",
       "      <td>2018</td>\n",
       "      <td>Limited</td>\n",
       "      <td>31977.0</td>\n",
       "    </tr>\n",
       "    <tr>\n",
       "      <th>7108</th>\n",
       "      <td>Fayetteville</td>\n",
       "      <td>False</td>\n",
       "      <td>HomeNet Automotive</td>\n",
       "      <td>Superior Buick GMC of Fayetteville</td>\n",
       "      <td>3.7</td>\n",
       "      <td>74</td>\n",
       "      <td>AR</td>\n",
       "      <td>72703.0</td>\n",
       "      <td>SUV</td>\n",
       "      <td>False</td>\n",
       "      <td>...</td>\n",
       "      <td>Cadillac</td>\n",
       "      <td>19788.0</td>\n",
       "      <td>XT5</td>\n",
       "      <td>Good Deal</td>\n",
       "      <td>Luxury, Exterior Parking Camera Rear, Front Du...</td>\n",
       "      <td>Used</td>\n",
       "      <td>8-Speed Automatic</td>\n",
       "      <td>2018</td>\n",
       "      <td>Luxury</td>\n",
       "      <td>33495.0</td>\n",
       "    </tr>\n",
       "  </tbody>\n",
       "</table>\n",
       "<p>5 rows × 28 columns</p>\n",
       "</div>"
      ],
      "text/plain": [
       "             SellerCity  SellerIsPriv               SellerListSrc  \\\n",
       "ListingID                                                           \n",
       "3287             Warren         False    Inventory Command Center   \n",
       "3920              Fargo         False  Cadillac Certified Program   \n",
       "4777           Waukesha         False      Jeep Certified Program   \n",
       "6242         Wentzville         False    Inventory Command Center   \n",
       "7108       Fayetteville         False          HomeNet Automotive   \n",
       "\n",
       "                                           SellerName  SellerRating  \\\n",
       "ListingID                                                             \n",
       "3287                                     Prime Motorz           5.0   \n",
       "3920                       Gateway Chevrolet Cadillac           4.8   \n",
       "4777       Wilde Chrysler Jeep Dodge Ram &amp; Subaru           4.8   \n",
       "6242                  Century Dodge Chrysler Jeep RAM           4.4   \n",
       "7108               Superior Buick GMC of Fayetteville           3.7   \n",
       "\n",
       "           SellerRevCnt SellerState  SellerZip VehBodystyle  VehCertified  \\\n",
       "ListingID                                                                   \n",
       "3287                 32          MI    48091.0          SUV         False   \n",
       "3920               1456          ND    58103.0          SUV          True   \n",
       "4777               1405          WI    53186.0          SUV          True   \n",
       "6242                 21          MO    63385.0          SUV         False   \n",
       "7108                 74          AR    72703.0          SUV         False   \n",
       "\n",
       "           ...   VehMake VehMileage        VehModel VehPriceLabel  \\\n",
       "ListingID  ...                                                      \n",
       "3287       ...      Jeep    39319.0  Grand Cherokee    Fair Price   \n",
       "3920       ...  Cadillac    30352.0             XT5     Good Deal   \n",
       "4777       ...      Jeep    38957.0  Grand Cherokee     Good Deal   \n",
       "6242       ...      Jeep    20404.0  Grand Cherokee     Good Deal   \n",
       "7108       ...  Cadillac    19788.0             XT5     Good Deal   \n",
       "\n",
       "                                              VehSellerNotes VehType  \\\n",
       "ListingID                                                              \n",
       "3287                                                     NaN    Used   \n",
       "3920       Come take a look at our great pre-owned invent...    Used   \n",
       "4777       Backed by a rigorous 125-point inspection by f...    Used   \n",
       "6242       Drop by to see us and you will quickly see how...    Used   \n",
       "7108       Luxury, Exterior Parking Camera Rear, Front Du...    Used   \n",
       "\n",
       "                  VehTransmission  VehYear   Vehicle_Trim  \\\n",
       "ListingID                                                   \n",
       "3287            Automatic 8-Speed     2015  High Altitude   \n",
       "3920                          NaN     2017            NaN   \n",
       "4777       8-Speed Automatic w/OD     2015         Laredo   \n",
       "6242                    Automatic     2018        Limited   \n",
       "7108            8-Speed Automatic     2018         Luxury   \n",
       "\n",
       "           Dealer_Listing_Price  \n",
       "ListingID                        \n",
       "3287                    30990.0  \n",
       "3920                    34860.0  \n",
       "4777                    23249.0  \n",
       "6242                    31977.0  \n",
       "7108                    33495.0  \n",
       "\n",
       "[5 rows x 28 columns]"
      ]
     },
     "execution_count": 9,
     "metadata": {},
     "output_type": "execute_result"
    }
   ],
   "source": [
    "Train.head()"
   ]
  },
  {
   "cell_type": "code",
   "execution_count": 10,
   "metadata": {},
   "outputs": [],
   "source": [
    "Train.columns = Train.columns.str.lower()"
   ]
  },
  {
   "cell_type": "code",
   "execution_count": 11,
   "metadata": {},
   "outputs": [
    {
     "data": {
      "text/plain": [
       "Index(['sellercity', 'sellerispriv', 'sellerlistsrc', 'sellername',\n",
       "       'sellerrating', 'sellerrevcnt', 'sellerstate', 'sellerzip',\n",
       "       'vehbodystyle', 'vehcertified', 'vehcolorext', 'vehcolorint',\n",
       "       'vehdrivetrain', 'vehengine', 'vehfeats', 'vehfuel', 'vehhistory',\n",
       "       'vehlistdays', 'vehmake', 'vehmileage', 'vehmodel', 'vehpricelabel',\n",
       "       'vehsellernotes', 'vehtype', 'vehtransmission', 'vehyear',\n",
       "       'vehicle_trim', 'dealer_listing_price'],\n",
       "      dtype='object')"
      ]
     },
     "execution_count": 11,
     "metadata": {},
     "output_type": "execute_result"
    }
   ],
   "source": [
    "Train.columns"
   ]
  },
  {
   "cell_type": "markdown",
   "metadata": {},
   "source": [
    "## Separate Dependent and Independent Variables\n",
    "\n",
    "### Not necessary, but I want to split the dependent and independent variable apart to inspect the data"
   ]
  },
  {
   "cell_type": "code",
   "execution_count": 12,
   "metadata": {},
   "outputs": [
    {
     "name": "stdout",
     "output_type": "stream",
     "text": [
      "<class 'pandas.core.frame.DataFrame'>\n",
      "Int64Index: 6298 entries, 3287 to 8620012\n",
      "Data columns (total 2 columns):\n",
      " #   Column                Non-Null Count  Dtype  \n",
      "---  ------                --------------  -----  \n",
      " 0   vehicle_trim          5893 non-null   object \n",
      " 1   dealer_listing_price  6246 non-null   float64\n",
      "dtypes: float64(1), object(1)\n",
      "memory usage: 147.6+ KB\n"
     ]
    }
   ],
   "source": [
    "y = Train[['vehicle_trim', 'dealer_listing_price']]\n",
    "y.info()"
   ]
  },
  {
   "cell_type": "code",
   "execution_count": 13,
   "metadata": {},
   "outputs": [
    {
     "data": {
      "text/plain": [
       "vehicle_trim            405\n",
       "dealer_listing_price     52\n",
       "dtype: int64"
      ]
     },
     "execution_count": 13,
     "metadata": {},
     "output_type": "execute_result"
    }
   ],
   "source": [
    "y.isna().sum()"
   ]
  },
  {
   "cell_type": "code",
   "execution_count": 14,
   "metadata": {},
   "outputs": [
    {
     "data": {
      "text/html": [
       "<div>\n",
       "<style scoped>\n",
       "    .dataframe tbody tr th:only-of-type {\n",
       "        vertical-align: middle;\n",
       "    }\n",
       "\n",
       "    .dataframe tbody tr th {\n",
       "        vertical-align: top;\n",
       "    }\n",
       "\n",
       "    .dataframe thead th {\n",
       "        text-align: right;\n",
       "    }\n",
       "</style>\n",
       "<table border=\"1\" class=\"dataframe\">\n",
       "  <thead>\n",
       "    <tr style=\"text-align: right;\">\n",
       "      <th></th>\n",
       "      <th>vehicle_trim</th>\n",
       "      <th>dealer_listing_price</th>\n",
       "    </tr>\n",
       "    <tr>\n",
       "      <th>ListingID</th>\n",
       "      <th></th>\n",
       "      <th></th>\n",
       "    </tr>\n",
       "  </thead>\n",
       "  <tbody>\n",
       "    <tr>\n",
       "      <th>3287</th>\n",
       "      <td>High Altitude</td>\n",
       "      <td>30990.0</td>\n",
       "    </tr>\n",
       "    <tr>\n",
       "      <th>3920</th>\n",
       "      <td>NaN</td>\n",
       "      <td>34860.0</td>\n",
       "    </tr>\n",
       "    <tr>\n",
       "      <th>4777</th>\n",
       "      <td>Laredo</td>\n",
       "      <td>23249.0</td>\n",
       "    </tr>\n",
       "    <tr>\n",
       "      <th>6242</th>\n",
       "      <td>Limited</td>\n",
       "      <td>31977.0</td>\n",
       "    </tr>\n",
       "    <tr>\n",
       "      <th>7108</th>\n",
       "      <td>Luxury</td>\n",
       "      <td>33495.0</td>\n",
       "    </tr>\n",
       "  </tbody>\n",
       "</table>\n",
       "</div>"
      ],
      "text/plain": [
       "            vehicle_trim  dealer_listing_price\n",
       "ListingID                                     \n",
       "3287       High Altitude               30990.0\n",
       "3920                 NaN               34860.0\n",
       "4777              Laredo               23249.0\n",
       "6242             Limited               31977.0\n",
       "7108              Luxury               33495.0"
      ]
     },
     "execution_count": 14,
     "metadata": {},
     "output_type": "execute_result"
    }
   ],
   "source": [
    "y.head()"
   ]
  },
  {
   "cell_type": "code",
   "execution_count": 15,
   "metadata": {},
   "outputs": [
    {
     "name": "stdout",
     "output_type": "stream",
     "text": [
      "<class 'pandas.core.frame.DataFrame'>\n",
      "Int64Index: 6298 entries, 3287 to 8620012\n",
      "Data columns (total 26 columns):\n",
      " #   Column           Non-Null Count  Dtype  \n",
      "---  ------           --------------  -----  \n",
      " 0   sellercity       6298 non-null   object \n",
      " 1   sellerispriv     6298 non-null   bool   \n",
      " 2   sellerlistsrc    6296 non-null   object \n",
      " 3   sellername       6298 non-null   object \n",
      " 4   sellerrating     6298 non-null   float64\n",
      " 5   sellerrevcnt     6298 non-null   int64  \n",
      " 6   sellerstate      6298 non-null   object \n",
      " 7   sellerzip        6296 non-null   float64\n",
      " 8   vehbodystyle     6298 non-null   object \n",
      " 9   vehcertified     6298 non-null   bool   \n",
      " 10  vehcolorext      6225 non-null   object \n",
      " 11  vehcolorint      5570 non-null   object \n",
      " 12  vehdrivetrain    5897 non-null   object \n",
      " 13  vehengine        5937 non-null   object \n",
      " 14  vehfeats         6023 non-null   object \n",
      " 15  vehfuel          6296 non-null   object \n",
      " 16  vehhistory       6097 non-null   object \n",
      " 17  vehlistdays      6296 non-null   float64\n",
      " 18  vehmake          6298 non-null   object \n",
      " 19  vehmileage       6296 non-null   float64\n",
      " 20  vehmodel         6298 non-null   object \n",
      " 21  vehpricelabel    6013 non-null   object \n",
      " 22  vehsellernotes   6055 non-null   object \n",
      " 23  vehtype          6298 non-null   object \n",
      " 24  vehtransmission  6101 non-null   object \n",
      " 25  vehyear          6298 non-null   int64  \n",
      "dtypes: bool(2), float64(4), int64(2), object(18)\n",
      "memory usage: 1.2+ MB\n"
     ]
    }
   ],
   "source": [
    "x = Train.drop(y.columns, axis=1)\n",
    "x.info()"
   ]
  },
  {
   "cell_type": "code",
   "execution_count": 16,
   "metadata": {},
   "outputs": [
    {
     "data": {
      "text/plain": [
       "sellercity           0\n",
       "sellerispriv         0\n",
       "sellerlistsrc        2\n",
       "sellername           0\n",
       "sellerrating         0\n",
       "sellerrevcnt         0\n",
       "sellerstate          0\n",
       "sellerzip            2\n",
       "vehbodystyle         0\n",
       "vehcertified         0\n",
       "vehcolorext         73\n",
       "vehcolorint        728\n",
       "vehdrivetrain      401\n",
       "vehengine          361\n",
       "vehfeats           275\n",
       "vehfuel              2\n",
       "vehhistory         201\n",
       "vehlistdays          2\n",
       "vehmake              0\n",
       "vehmileage           2\n",
       "vehmodel             0\n",
       "vehpricelabel      285\n",
       "vehsellernotes     243\n",
       "vehtype              0\n",
       "vehtransmission    197\n",
       "vehyear              0\n",
       "dtype: int64"
      ]
     },
     "execution_count": 16,
     "metadata": {},
     "output_type": "execute_result"
    }
   ],
   "source": [
    "x.isna().sum()"
   ]
  },
  {
   "cell_type": "markdown",
   "metadata": {},
   "source": [
    "## Explore, Clean, Transform, And Engineer Features"
   ]
  },
  {
   "cell_type": "code",
   "execution_count": 17,
   "metadata": {},
   "outputs": [
    {
     "data": {
      "text/html": [
       "<div>\n",
       "<style scoped>\n",
       "    .dataframe tbody tr th:only-of-type {\n",
       "        vertical-align: middle;\n",
       "    }\n",
       "\n",
       "    .dataframe tbody tr th {\n",
       "        vertical-align: top;\n",
       "    }\n",
       "\n",
       "    .dataframe thead th {\n",
       "        text-align: right;\n",
       "    }\n",
       "</style>\n",
       "<table border=\"1\" class=\"dataframe\">\n",
       "  <thead>\n",
       "    <tr style=\"text-align: right;\">\n",
       "      <th></th>\n",
       "      <th>vehicle_trim</th>\n",
       "      <th>dealer_listing_price</th>\n",
       "    </tr>\n",
       "    <tr>\n",
       "      <th>ListingID</th>\n",
       "      <th></th>\n",
       "      <th></th>\n",
       "    </tr>\n",
       "  </thead>\n",
       "  <tbody>\n",
       "    <tr>\n",
       "      <th>3287</th>\n",
       "      <td>High Altitude</td>\n",
       "      <td>30990.0</td>\n",
       "    </tr>\n",
       "    <tr>\n",
       "      <th>3920</th>\n",
       "      <td>NaN</td>\n",
       "      <td>34860.0</td>\n",
       "    </tr>\n",
       "    <tr>\n",
       "      <th>4777</th>\n",
       "      <td>Laredo</td>\n",
       "      <td>23249.0</td>\n",
       "    </tr>\n",
       "    <tr>\n",
       "      <th>6242</th>\n",
       "      <td>Limited</td>\n",
       "      <td>31977.0</td>\n",
       "    </tr>\n",
       "    <tr>\n",
       "      <th>7108</th>\n",
       "      <td>Luxury</td>\n",
       "      <td>33495.0</td>\n",
       "    </tr>\n",
       "  </tbody>\n",
       "</table>\n",
       "</div>"
      ],
      "text/plain": [
       "            vehicle_trim  dealer_listing_price\n",
       "ListingID                                     \n",
       "3287       High Altitude               30990.0\n",
       "3920                 NaN               34860.0\n",
       "4777              Laredo               23249.0\n",
       "6242             Limited               31977.0\n",
       "7108              Luxury               33495.0"
      ]
     },
     "execution_count": 17,
     "metadata": {},
     "output_type": "execute_result"
    }
   ],
   "source": [
    "y.head()"
   ]
  },
  {
   "cell_type": "code",
   "execution_count": 18,
   "metadata": {},
   "outputs": [
    {
     "data": {
      "text/plain": [
       "Limited                             1912\n",
       "Premium Luxury                       747\n",
       "Laredo                               704\n",
       "Luxury                               645\n",
       "Overland                             381\n",
       "Altitude                             325\n",
       "Summit                               242\n",
       "Trailhawk                            178\n",
       "Base                                 159\n",
       "Platinum                             131\n",
       "High Altitude                         86\n",
       "SRT                                   76\n",
       "Luxury FWD                            53\n",
       "FWD                                   49\n",
       "Laredo E                              47\n",
       "Premium Luxury FWD                    35\n",
       "Trackhawk                             30\n",
       "Sterling Edition                      26\n",
       "Luxury AWD                            22\n",
       "Platinum AWD                          13\n",
       "Premium Luxury AWD                     9\n",
       "75th Anniversary                       8\n",
       "Limited 75th Anniversary Edition       5\n",
       "Upland                                 3\n",
       "SRT Night                              3\n",
       "Limited 4x4                            1\n",
       "75th Anniversary Edition               1\n",
       "Limited 75th Anniversary               1\n",
       "Limited X                              1\n",
       "Name: vehicle_trim, dtype: int64"
      ]
     },
     "execution_count": 18,
     "metadata": {},
     "output_type": "execute_result"
    }
   ],
   "source": [
    "y['vehicle_trim'].value_counts()"
   ]
  },
  {
   "cell_type": "markdown",
   "metadata": {},
   "source": [
    "### We need to clean up the value counts dispersion, as SRT and SRT NIGHT could technically be an non-distinguishable feature that wouldn't fit the model we are trying to build. \n",
    "### Same goes for Limited and Limited X."
   ]
  },
  {
   "cell_type": "code",
   "execution_count": 19,
   "metadata": {},
   "outputs": [
    {
     "data": {
      "text/plain": [
       "Cadillac    1511\n",
       "Name: vehmake, dtype: int64"
      ]
     },
     "execution_count": 19,
     "metadata": {},
     "output_type": "execute_result"
    }
   ],
   "source": [
    "# Check which makes have \"Luxury\" in the trim\n",
    "Train.loc[y['vehicle_trim'].str.lower().str.contains('luxury') == True, 'vehmake'].value_counts()"
   ]
  },
  {
   "cell_type": "code",
   "execution_count": 20,
   "metadata": {},
   "outputs": [
    {
     "data": {
      "text/plain": [
       "Jeep    1920\n",
       "Name: vehmake, dtype: int64"
      ]
     },
     "execution_count": 20,
     "metadata": {},
     "output_type": "execute_result"
    }
   ],
   "source": [
    "# Check which make have \"Limited\" in the trim\n",
    "Train.loc[y['vehicle_trim'].str.lower().str.contains('limited') == True, 'vehmake'].value_counts()"
   ]
  },
  {
   "cell_type": "code",
   "execution_count": 21,
   "metadata": {},
   "outputs": [
    {
     "data": {
      "text/plain": [
       "Jeep    751\n",
       "Name: vehmake, dtype: int64"
      ]
     },
     "execution_count": 21,
     "metadata": {},
     "output_type": "execute_result"
    }
   ],
   "source": [
    "# Check which makes have \"Laredo\" in the trim\n",
    "Train.loc[y['vehicle_trim'].str.lower().str.contains('laredo') == True, 'vehmake'].value_counts()"
   ]
  },
  {
   "cell_type": "code",
   "execution_count": 22,
   "metadata": {},
   "outputs": [
    {
     "data": {
      "text/plain": [
       "Cadillac    137\n",
       "Name: vehmake, dtype: int64"
      ]
     },
     "execution_count": 22,
     "metadata": {},
     "output_type": "execute_result"
    }
   ],
   "source": [
    "# Check which makes have \"FWD\" in the trim\n",
    "Train.loc[y['vehicle_trim'].str.lower().str.contains('fwd') == True, 'vehmake'].value_counts()"
   ]
  },
  {
   "cell_type": "code",
   "execution_count": 23,
   "metadata": {},
   "outputs": [
    {
     "data": {
      "text/plain": [
       "Cadillac    44\n",
       "Name: vehmake, dtype: int64"
      ]
     },
     "execution_count": 23,
     "metadata": {},
     "output_type": "execute_result"
    }
   ],
   "source": [
    "# Check which makes have \"AWD\" in the trim\n",
    "Train.loc[y['vehicle_trim'].str.lower().str.contains('awd') == True, 'vehmake'].value_counts()"
   ]
  },
  {
   "cell_type": "code",
   "execution_count": 24,
   "metadata": {},
   "outputs": [
    {
     "data": {
      "text/plain": [
       "Jeep        4199\n",
       "Cadillac    2099\n",
       "Name: vehmake, dtype: int64"
      ]
     },
     "execution_count": 24,
     "metadata": {},
     "output_type": "execute_result"
    }
   ],
   "source": [
    "# Check what makes exist\n",
    "Train['vehmake'].value_counts()"
   ]
  },
  {
   "cell_type": "code",
   "execution_count": 25,
   "metadata": {},
   "outputs": [
    {
     "data": {
      "text/plain": [
       "vehmake   vehicle_trim                    \n",
       "Cadillac  Premium Luxury                       747\n",
       "          Luxury                               645\n",
       "          Base                                 159\n",
       "          Platinum                             131\n",
       "          Luxury FWD                            53\n",
       "          FWD                                   49\n",
       "          Premium Luxury FWD                    35\n",
       "          Luxury AWD                            22\n",
       "          Platinum AWD                          13\n",
       "          Premium Luxury AWD                     9\n",
       "Jeep      Limited                             1912\n",
       "          Laredo                               704\n",
       "          Overland                             381\n",
       "          Altitude                             325\n",
       "          Summit                               242\n",
       "          Trailhawk                            178\n",
       "          High Altitude                         86\n",
       "          SRT                                   76\n",
       "          Laredo E                              47\n",
       "          Trackhawk                             30\n",
       "          Sterling Edition                      26\n",
       "          75th Anniversary                       8\n",
       "          Limited 75th Anniversary Edition       5\n",
       "          SRT Night                              3\n",
       "          Upland                                 3\n",
       "          75th Anniversary Edition               1\n",
       "          Limited 4x4                            1\n",
       "          Limited 75th Anniversary               1\n",
       "          Limited X                              1\n",
       "Name: vehicle_trim, dtype: int64"
      ]
     },
     "execution_count": 25,
     "metadata": {},
     "output_type": "execute_result"
    }
   ],
   "source": [
    "Train.groupby('vehmake')['vehicle_trim'].value_counts()"
   ]
  },
  {
   "cell_type": "markdown",
   "metadata": {},
   "source": [
    "### Clean up vehicle_makes\n",
    "\n",
    "Looking at how these trims are distributed, we are going to clean this up a bit.  First, let's actually separate the data into 2 data set....JEEP and CADILLAC."
   ]
  },
  {
   "cell_type": "code",
   "execution_count": 26,
   "metadata": {},
   "outputs": [
    {
     "name": "stdout",
     "output_type": "stream",
     "text": [
      "<class 'pandas.core.frame.DataFrame'>\n",
      "Int64Index: 2099 entries, 3920 to 8617378\n",
      "Data columns (total 28 columns):\n",
      " #   Column                Non-Null Count  Dtype  \n",
      "---  ------                --------------  -----  \n",
      " 0   sellercity            2099 non-null   object \n",
      " 1   sellerispriv          2099 non-null   bool   \n",
      " 2   sellerlistsrc         2099 non-null   object \n",
      " 3   sellername            2099 non-null   object \n",
      " 4   sellerrating          2099 non-null   float64\n",
      " 5   sellerrevcnt          2099 non-null   int64  \n",
      " 6   sellerstate           2099 non-null   object \n",
      " 7   sellerzip             2099 non-null   float64\n",
      " 8   vehbodystyle          2099 non-null   object \n",
      " 9   vehcertified          2099 non-null   bool   \n",
      " 10  vehcolorext           2072 non-null   object \n",
      " 11  vehcolorint           1782 non-null   object \n",
      " 12  vehdrivetrain         1925 non-null   object \n",
      " 13  vehengine             1929 non-null   object \n",
      " 14  vehfeats              1863 non-null   object \n",
      " 15  vehfuel               2099 non-null   object \n",
      " 16  vehhistory            2085 non-null   object \n",
      " 17  vehlistdays           2099 non-null   float64\n",
      " 18  vehmake               2099 non-null   object \n",
      " 19  vehmileage            2097 non-null   float64\n",
      " 20  vehmodel              2099 non-null   object \n",
      " 21  vehpricelabel         2012 non-null   object \n",
      " 22  vehsellernotes        1973 non-null   object \n",
      " 23  vehtype               2099 non-null   object \n",
      " 24  vehtransmission       1928 non-null   object \n",
      " 25  vehyear               2099 non-null   int64  \n",
      " 26  vehicle_trim          1863 non-null   object \n",
      " 27  dealer_listing_price  2047 non-null   float64\n",
      "dtypes: bool(2), float64(5), int64(2), object(19)\n",
      "memory usage: 446.9+ KB\n"
     ]
    }
   ],
   "source": [
    "Cadillac = Train[Train['vehmake'] == 'Cadillac']\n",
    "Cadillac.info()"
   ]
  },
  {
   "cell_type": "code",
   "execution_count": 27,
   "metadata": {},
   "outputs": [
    {
     "name": "stdout",
     "output_type": "stream",
     "text": [
      "<class 'pandas.core.frame.DataFrame'>\n",
      "Int64Index: 4199 entries, 3287 to 8620012\n",
      "Data columns (total 28 columns):\n",
      " #   Column                Non-Null Count  Dtype  \n",
      "---  ------                --------------  -----  \n",
      " 0   sellercity            4199 non-null   object \n",
      " 1   sellerispriv          4199 non-null   bool   \n",
      " 2   sellerlistsrc         4197 non-null   object \n",
      " 3   sellername            4199 non-null   object \n",
      " 4   sellerrating          4199 non-null   float64\n",
      " 5   sellerrevcnt          4199 non-null   int64  \n",
      " 6   sellerstate           4199 non-null   object \n",
      " 7   sellerzip             4197 non-null   float64\n",
      " 8   vehbodystyle          4199 non-null   object \n",
      " 9   vehcertified          4199 non-null   bool   \n",
      " 10  vehcolorext           4153 non-null   object \n",
      " 11  vehcolorint           3788 non-null   object \n",
      " 12  vehdrivetrain         3972 non-null   object \n",
      " 13  vehengine             4008 non-null   object \n",
      " 14  vehfeats              4160 non-null   object \n",
      " 15  vehfuel               4197 non-null   object \n",
      " 16  vehhistory            4012 non-null   object \n",
      " 17  vehlistdays           4197 non-null   float64\n",
      " 18  vehmake               4199 non-null   object \n",
      " 19  vehmileage            4199 non-null   float64\n",
      " 20  vehmodel              4199 non-null   object \n",
      " 21  vehpricelabel         4001 non-null   object \n",
      " 22  vehsellernotes        4082 non-null   object \n",
      " 23  vehtype               4199 non-null   object \n",
      " 24  vehtransmission       4173 non-null   object \n",
      " 25  vehyear               4199 non-null   int64  \n",
      " 26  vehicle_trim          4030 non-null   object \n",
      " 27  dealer_listing_price  4199 non-null   float64\n",
      "dtypes: bool(2), float64(5), int64(2), object(19)\n",
      "memory usage: 893.9+ KB\n"
     ]
    }
   ],
   "source": [
    "Jeep = Train[Train['vehmake'] == 'Jeep']\n",
    "Jeep.info()"
   ]
  },
  {
   "cell_type": "markdown",
   "metadata": {},
   "source": [
    "### Cadillac\n",
    "\n",
    "Now, we are going to clean the 'vehicle_trim' column by grouping similar trims together.\n",
    "\n",
    "For Cadillac, we will keep:\n",
    "\n",
    "    - Premium = Premium Luxury, Premium Luxury FWD, Premium Luxury AWD\n",
    "    - Luxury = Luxury, Luxury FWD, Luxury AWD\n",
    "    - Base = Base\n",
    "    - Platinum = Platinum, Platinum AWD\n",
    "\n",
    "The remaining trim \"FWD\" will be dropped, as it is merely 2% of observation and isn't actually a trim package, but rather a type of Drive Train."
   ]
  },
  {
   "cell_type": "code",
   "execution_count": 28,
   "metadata": {},
   "outputs": [
    {
     "data": {
      "text/plain": [
       "Premium Luxury        747\n",
       "Luxury                645\n",
       "Base                  159\n",
       "Platinum              131\n",
       "Luxury FWD             53\n",
       "FWD                    49\n",
       "Premium Luxury FWD     35\n",
       "Luxury AWD             22\n",
       "Platinum AWD           13\n",
       "Premium Luxury AWD      9\n",
       "Name: vehicle_trim, dtype: int64"
      ]
     },
     "execution_count": 28,
     "metadata": {},
     "output_type": "execute_result"
    }
   ],
   "source": [
    "Cadillac['vehicle_trim'].value_counts()"
   ]
  },
  {
   "cell_type": "code",
   "execution_count": 29,
   "metadata": {},
   "outputs": [],
   "source": [
    "Cadillac.loc[Cadillac['vehicle_trim'].str.lower().str.contains('premium') == True, 'vehicle_trim'] = 'premium'\n",
    "Cadillac.loc[Cadillac['vehicle_trim'].str.lower().str.contains('luxury') == True, 'vehicle_trim'] = 'luxury'\n",
    "Cadillac.loc[Cadillac['vehicle_trim'].str.lower().str.contains('base') == True, 'vehicle_trim'] = 'base'\n",
    "Cadillac.loc[Cadillac['vehicle_trim'].str.lower().str.contains('platinum') == True, 'vehicle_trim'] = 'platinum'"
   ]
  },
  {
   "cell_type": "code",
   "execution_count": 30,
   "metadata": {},
   "outputs": [
    {
     "data": {
      "text/plain": [
       "premium     791\n",
       "luxury      720\n",
       "base        159\n",
       "platinum    144\n",
       "FWD          49\n",
       "Name: vehicle_trim, dtype: int64"
      ]
     },
     "execution_count": 30,
     "metadata": {},
     "output_type": "execute_result"
    }
   ],
   "source": [
    "Cadillac['vehicle_trim'].value_counts()"
   ]
  },
  {
   "cell_type": "code",
   "execution_count": 31,
   "metadata": {},
   "outputs": [
    {
     "data": {
      "text/plain": [
       "premium     791\n",
       "luxury      720\n",
       "base        159\n",
       "platinum    144\n",
       "Name: vehicle_trim, dtype: int64"
      ]
     },
     "execution_count": 31,
     "metadata": {},
     "output_type": "execute_result"
    }
   ],
   "source": [
    "Cadillac = Cadillac[Cadillac['vehicle_trim'] != 'FWD']\n",
    "Cadillac['vehicle_trim'].value_counts()"
   ]
  },
  {
   "cell_type": "markdown",
   "metadata": {},
   "source": [
    "### Jeep\n",
    "\n",
    "Just like we did for Cadillac, we will remove/consolidate the categories into the following buckets:\n",
    "\n",
    "   - Limited = Limited, Limited 75th Anniversary Edition, Limited 75th Anniversary, Limited X\n",
    "   - Laredo = Laredo, Laredo E\n",
    "   - SRT = SRT, SRT Night\n",
    "   \n",
    "The rest of the trims, we will remove from consideration for this analysis\n",
    "\n",
    "NOTE:  This \"bucketing\" choice of action is the highest risk within the analysis.  By ruling out the \"75th Anniversary\" as a deciding factor, we would need to augment the analysis all over again AT THIS POINT IN TIME. \n"
   ]
  },
  {
   "cell_type": "code",
   "execution_count": 32,
   "metadata": {},
   "outputs": [],
   "source": [
    "Jeep.loc[Jeep['vehicle_trim'].str.lower().str.contains('limited') == True, 'vehicle_trim'] = 'limited'\n",
    "Jeep.loc[Jeep['vehicle_trim'].str.lower().str.contains('laredo') == True, 'vehicle_trim'] = 'laredo'\n",
    "Jeep.loc[Jeep['vehicle_trim'].str.lower().str.contains('srt') == True, 'vehicle_trim'] = 'srt'"
   ]
  },
  {
   "cell_type": "code",
   "execution_count": 33,
   "metadata": {},
   "outputs": [
    {
     "data": {
      "image/png": "[encoded data removed]",
      "text/plain": [
       "<Figure size 432x288 with 1 Axes>"
      ]
     },
     "metadata": {},
     "output_type": "display_data"
    }
   ],
   "source": [
    "Jeep['vehicle_trim'].value_counts().sort_values().plot.barh();"
   ]
  },
  {
   "cell_type": "code",
   "execution_count": 34,
   "metadata": {},
   "outputs": [
    {
     "name": "stdout",
     "output_type": "stream",
     "text": [
      "<class 'pandas.core.frame.DataFrame'>\n",
      "Int64Index: 3992 entries, 3287 to 8620012\n",
      "Data columns (total 28 columns):\n",
      " #   Column                Non-Null Count  Dtype  \n",
      "---  ------                --------------  -----  \n",
      " 0   sellercity            3992 non-null   object \n",
      " 1   sellerispriv          3992 non-null   bool   \n",
      " 2   sellerlistsrc         3990 non-null   object \n",
      " 3   sellername            3992 non-null   object \n",
      " 4   sellerrating          3992 non-null   float64\n",
      " 5   sellerrevcnt          3992 non-null   int64  \n",
      " 6   sellerstate           3992 non-null   object \n",
      " 7   sellerzip             3990 non-null   float64\n",
      " 8   vehbodystyle          3992 non-null   object \n",
      " 9   vehcertified          3992 non-null   bool   \n",
      " 10  vehcolorext           3966 non-null   object \n",
      " 11  vehcolorint           3697 non-null   object \n",
      " 12  vehdrivetrain         3933 non-null   object \n",
      " 13  vehengine             3969 non-null   object \n",
      " 14  vehfeats              3976 non-null   object \n",
      " 15  vehfuel               3990 non-null   object \n",
      " 16  vehhistory            3805 non-null   object \n",
      " 17  vehlistdays           3990 non-null   float64\n",
      " 18  vehmake               3992 non-null   object \n",
      " 19  vehmileage            3992 non-null   float64\n",
      " 20  vehmodel              3992 non-null   object \n",
      " 21  vehpricelabel         3794 non-null   object \n",
      " 22  vehsellernotes        3949 non-null   object \n",
      " 23  vehtype               3992 non-null   object \n",
      " 24  vehtransmission       3966 non-null   object \n",
      " 25  vehyear               3992 non-null   int64  \n",
      " 26  vehicle_trim          3992 non-null   object \n",
      " 27  dealer_listing_price  3992 non-null   float64\n",
      "dtypes: bool(2), float64(5), int64(2), object(19)\n",
      "memory usage: 849.9+ KB\n"
     ]
    }
   ],
   "source": [
    "keep_trims = ['limited','laredo','overland','altitude','summit','trailhawk','high altitude','srt','trackhawk']\n",
    "Jeep = Jeep.loc[Jeep['vehicle_trim'].str.lower().isin(keep_trims),:] \n",
    "Jeep.info()"
   ]
  },
  {
   "cell_type": "code",
   "execution_count": 35,
   "metadata": {},
   "outputs": [
    {
     "data": {
      "text/plain": [
       "limited          1920\n",
       "laredo            751\n",
       "Overland          381\n",
       "Altitude          325\n",
       "Summit            242\n",
       "Trailhawk         178\n",
       "High Altitude      86\n",
       "srt                79\n",
       "Trackhawk          30\n",
       "Name: vehicle_trim, dtype: int64"
      ]
     },
     "execution_count": 35,
     "metadata": {},
     "output_type": "execute_result"
    }
   ],
   "source": [
    "Jeep['vehicle_trim'].value_counts()"
   ]
  },
  {
   "cell_type": "code",
   "execution_count": 36,
   "metadata": {},
   "outputs": [
    {
     "data": {
      "image/png": "[encoded data removed]",
      "text/plain": [
       "<Figure size 1152x576 with 2 Axes>"
      ]
     },
     "metadata": {},
     "output_type": "display_data"
    }
   ],
   "source": [
    "fig, axes = plt.subplots(ncols=2, figsize=(16,8))\n",
    "Jeep['vehicle_trim'].value_counts().sort_values().plot.barh(ax=axes[0])\n",
    "axes[0].set_title('Jeep')\n",
    "Cadillac['vehicle_trim'].value_counts().sort_values().plot.barh(ax=axes[1])\n",
    "axes[1].set_title('Cadillac')\n",
    "fig.savefig('trim_counts.png');"
   ]
  },
  {
   "cell_type": "code",
   "execution_count": 37,
   "metadata": {},
   "outputs": [
    {
     "data": {
      "text/plain": [
       "52"
      ]
     },
     "execution_count": 37,
     "metadata": {},
     "output_type": "execute_result"
    }
   ],
   "source": [
    "y['dealer_listing_price'].isna().sum()"
   ]
  },
  {
   "cell_type": "code",
   "execution_count": 38,
   "metadata": {},
   "outputs": [
    {
     "data": {
      "image/png": "[encoded data removed]",
      "text/plain": [
       "<Figure size 1080x576 with 1 Axes>"
      ]
     },
     "metadata": {},
     "output_type": "display_data"
    }
   ],
   "source": [
    "fig, ax = plt.subplots(figsize=(15,8))\n",
    "sns.histplot(Cadillac['dealer_listing_price'], kde=True, color='blue',ax=ax, label='Cadillac')\n",
    "sns.histplot(Jeep['dealer_listing_price'], kde=True, color='red', ax=ax, label='Jeep')\n",
    "ax.legend()\n",
    "ax.set_title('Distribution of Listing Price');"
   ]
  },
  {
   "cell_type": "markdown",
   "metadata": {},
   "source": [
    "### Log Transform to display the look of normal distribution across both data sets"
   ]
  },
  {
   "cell_type": "code",
   "execution_count": 39,
   "metadata": {},
   "outputs": [
    {
     "data": {
      "image/png": "[encoded data removed]",
      "text/plain": [
       "<Figure size 1080x576 with 1 Axes>"
      ]
     },
     "metadata": {},
     "output_type": "display_data"
    }
   ],
   "source": [
    "fig, ax = plt.subplots(figsize=(15,8))\n",
    "sns.histplot(np.log(Cadillac['dealer_listing_price']), kde=True, color='blue',ax=ax, label='Cadillac')\n",
    "sns.histplot(np.log(Jeep['dealer_listing_price']), kde=True, color='red',ax=ax, label='Jeep')\n",
    "ax.legend()\n",
    "ax.set_title('Distribution of Log-Price');"
   ]
  },
  {
   "cell_type": "markdown",
   "metadata": {},
   "source": [
    "### This confirms that Log Transform DOES normalize the distribution of data.  As you can see, the data tails off at the end LESS than when using the raw data."
   ]
  },
  {
   "cell_type": "markdown",
   "metadata": {},
   "source": [
    "### Cadillac Data"
   ]
  },
  {
   "cell_type": "code",
   "execution_count": 40,
   "metadata": {},
   "outputs": [
    {
     "data": {
      "text/plain": [
       "Text(0.5, 0.98, 'Cadillac')"
      ]
     },
     "execution_count": 40,
     "metadata": {},
     "output_type": "execute_result"
    },
    {
     "data": {
      "image/png": "[encoded data removed]",
      "text/plain": [
       "<Figure size 1440x576 with 2 Axes>"
      ]
     },
     "metadata": {},
     "output_type": "display_data"
    }
   ],
   "source": [
    "fig, axes = plt.subplots(ncols=2, figsize=(20,8))\n",
    "sm.qqplot(Cadillac['dealer_listing_price'],\n",
    "           loc=Cadillac['dealer_listing_price'].mean(),\n",
    "           scale=Cadillac['dealer_listing_price'].std(),\n",
    "           ax=axes[0], line='45')\n",
    "axes[0].set_title('QQ-Plot of Dealer Listing Price')\n",
    "\n",
    "temp=np.log(Cadillac['dealer_listing_price'])\n",
    "sm.qqplot(temp,\n",
    "         loc=temp.mean(),\n",
    "         scale=temp.std(),\n",
    "         ax=axes[1], line='45')\n",
    "axes[1].set_title('QQ-Plot of Log Price')\n",
    "fig.suptitle('Cadillac')"
   ]
  },
  {
   "cell_type": "markdown",
   "metadata": {},
   "source": [
    "### Jeep Data\n",
    "\n",
    "   ### Note:  Unlike Cadillac, the data is a little skewed, as data covers a wider range of pricing"
   ]
  },
  {
   "cell_type": "code",
   "execution_count": 41,
   "metadata": {},
   "outputs": [
    {
     "data": {
      "text/plain": [
       "Text(0.5, 0.98, 'Jeep')"
      ]
     },
     "execution_count": 41,
     "metadata": {},
     "output_type": "execute_result"
    },
    {
     "data": {
      "image/png": "[encoded data removed]",
      "text/plain": [
       "<Figure size 1440x576 with 2 Axes>"
      ]
     },
     "metadata": {},
     "output_type": "display_data"
    }
   ],
   "source": [
    "fig, axes = plt.subplots(ncols=2, figsize=(20,8))\n",
    "sm.qqplot(Jeep['dealer_listing_price'],\n",
    "           loc=Jeep['dealer_listing_price'].mean(),\n",
    "           scale=Jeep['dealer_listing_price'].std(),\n",
    "           ax=axes[0], line='45')\n",
    "axes[0].set_title('QQ-Plot of Dealer Listing Price')\n",
    "\n",
    "temp=np.log(Jeep['dealer_listing_price'])\n",
    "sm.qqplot(temp,\n",
    "         loc=temp.mean(),\n",
    "         scale=temp.std(),\n",
    "         ax=axes[1], line='45')\n",
    "axes[1].set_title('QQ-Plot of Log Price')\n",
    "fig.suptitle('Jeep')"
   ]
  },
  {
   "cell_type": "markdown",
   "metadata": {},
   "source": [
    "### Transform number into Z Score, then divides by Standard Deviation...attempting to standardize the data\n"
   ]
  },
  {
   "cell_type": "code",
   "execution_count": 42,
   "metadata": {},
   "outputs": [],
   "source": [
    "def quick_scale(series):\n",
    "    return series.sub(np.mean(series)).div(np.std(series))"
   ]
  },
  {
   "cell_type": "code",
   "execution_count": 43,
   "metadata": {},
   "outputs": [
    {
     "data": {
      "text/plain": [
       "Text(0.5, 1.0, 'Distribution of Scaled Log-Prices')"
      ]
     },
     "execution_count": 43,
     "metadata": {},
     "output_type": "execute_result"
    },
    {
     "data": {
      "image/png": "[encoded data removed]",
      "text/plain": [
       "<Figure size 1080x576 with 1 Axes>"
      ]
     },
     "metadata": {},
     "output_type": "display_data"
    }
   ],
   "source": [
    "fig, ax = plt.subplots(figsize=(15,8))\n",
    "sns.histplot(quick_scale(np.log(Cadillac['dealer_listing_price'])), kde=True, color='blue',ax=ax, label='Cadillac')\n",
    "sns.histplot(quick_scale(np.log(Jeep['dealer_listing_price'])), kde=True, color='red',ax=ax, label='Jeep')\n",
    "ax.legend()\n",
    "ax.set_title('Distribution of Scaled Log-Prices')"
   ]
  },
  {
   "cell_type": "code",
   "execution_count": 44,
   "metadata": {},
   "outputs": [
    {
     "data": {
      "text/plain": [
       "Text(0.5, 0.98, 'Jeep')"
      ]
     },
     "execution_count": 44,
     "metadata": {},
     "output_type": "execute_result"
    },
    {
     "data": {
      "image/png": "[encoded data removed]",
      "text/plain": [
       "<Figure size 1440x576 with 2 Axes>"
      ]
     },
     "metadata": {},
     "output_type": "display_data"
    }
   ],
   "source": [
    "fig, axes = plt.subplots(ncols=2, figsize=(20,8))\n",
    "temp = quick_scale(np.log(Cadillac['dealer_listing_price']))\n",
    "sm.qqplot(temp, line='45',ax=axes[0])\n",
    "axes[0].set_title('QQ-Plot of Scaled Log-Price (Cadillac)')\n",
    "\n",
    "temp=quick_scale(np.log(Jeep['dealer_listing_price']))\n",
    "sm.qqplot(temp,ax=axes[1], line='45')\n",
    "axes[1].set_title('QQ-Plot of Log Price')\n",
    "fig.suptitle('Jeep')"
   ]
  },
  {
   "cell_type": "code",
   "execution_count": 45,
   "metadata": {},
   "outputs": [],
   "source": [
    "Cadillac.loc[:, 'log_price'] = np.log(Cadillac.loc[:, 'dealer_listing_price'])\n",
    "Jeep.loc[:, 'log_price']=np.log(Jeep.loc[:, 'dealer_listing_price'])"
   ]
  },
  {
   "cell_type": "code",
   "execution_count": 46,
   "metadata": {},
   "outputs": [
    {
     "name": "stdout",
     "output_type": "stream",
     "text": [
      "<class 'pandas.core.frame.DataFrame'>\n",
      "Int64Index: 4965 entries, 4777 to 8617378\n",
      "Data columns (total 29 columns):\n",
      " #   Column                Non-Null Count  Dtype  \n",
      "---  ------                --------------  -----  \n",
      " 0   sellercity            4965 non-null   object \n",
      " 1   sellerispriv          4965 non-null   bool   \n",
      " 2   sellerlistsrc         4965 non-null   object \n",
      " 3   sellername            4965 non-null   object \n",
      " 4   sellerrating          4965 non-null   float64\n",
      " 5   sellerrevcnt          4965 non-null   int64  \n",
      " 6   sellerstate           4965 non-null   object \n",
      " 7   sellerzip             4965 non-null   float64\n",
      " 8   vehbodystyle          4965 non-null   object \n",
      " 9   vehcertified          4965 non-null   bool   \n",
      " 10  vehcolorext           4965 non-null   object \n",
      " 11  vehcolorint           4965 non-null   object \n",
      " 12  vehdrivetrain         4965 non-null   object \n",
      " 13  vehengine             4965 non-null   object \n",
      " 14  vehfeats              4965 non-null   object \n",
      " 15  vehfuel               4965 non-null   object \n",
      " 16  vehhistory            4965 non-null   object \n",
      " 17  vehlistdays           4965 non-null   float64\n",
      " 18  vehmake               4965 non-null   object \n",
      " 19  vehmileage            4965 non-null   float64\n",
      " 20  vehmodel              4965 non-null   object \n",
      " 21  vehpricelabel         4965 non-null   object \n",
      " 22  vehsellernotes        4965 non-null   object \n",
      " 23  vehtype               4965 non-null   object \n",
      " 24  vehtransmission       4965 non-null   object \n",
      " 25  vehyear               4965 non-null   int64  \n",
      " 26  vehicle_trim          4965 non-null   object \n",
      " 27  dealer_listing_price  4965 non-null   float64\n",
      " 28  log_price             4965 non-null   float64\n",
      "dtypes: bool(2), float64(6), int64(2), object(19)\n",
      "memory usage: 1.1+ MB\n"
     ]
    }
   ],
   "source": [
    "whole_data = pd.concat([Jeep,Cadillac])\n",
    "whole_data.dropna(inplace=True)\n",
    "whole_data.info()"
   ]
  },
  {
   "cell_type": "code",
   "execution_count": 47,
   "metadata": {},
   "outputs": [],
   "source": [
    "test_index = np.random.choice(whole_data.index,\n",
    "                             size=whole_data.index.size // 5,\n",
    "                             replace=False)\n",
    "train_index = whole_data.index[[i not in test_index for i in whole_data.index]]\n",
    "whole_data, test_data = whole_data.loc[train_index,:].copy(), whole_data.loc[test_index,:].copy()"
   ]
  },
  {
   "cell_type": "code",
   "execution_count": 48,
   "metadata": {},
   "outputs": [
    {
     "data": {
      "text/plain": [
       "Index(['sellercity', 'sellerispriv', 'sellerlistsrc', 'sellername',\n",
       "       'sellerrating', 'sellerrevcnt', 'sellerstate', 'sellerzip',\n",
       "       'vehbodystyle', 'vehcertified', 'vehcolorext', 'vehcolorint',\n",
       "       'vehdrivetrain', 'vehengine', 'vehfeats', 'vehfuel', 'vehhistory',\n",
       "       'vehlistdays', 'vehmake', 'vehmileage', 'vehmodel', 'vehpricelabel',\n",
       "       'vehsellernotes', 'vehtype', 'vehtransmission', 'vehyear'],\n",
       "      dtype='object')"
      ]
     },
     "execution_count": 48,
     "metadata": {},
     "output_type": "execute_result"
    }
   ],
   "source": [
    "categorical_features = []\n",
    "numeric_features = []\n",
    "drop_features=[]\n",
    "data_cols=whole_data.columns[:26]\n",
    "data_cols"
   ]
  },
  {
   "cell_type": "code",
   "execution_count": 49,
   "metadata": {},
   "outputs": [
    {
     "data": {
      "text/plain": [
       "ListingID\n",
       "4777       Waukesha\n",
       "6242     Wentzville\n",
       "12013        Ottawa\n",
       "12334      Elmhurst\n",
       "13173    Louisville\n",
       "Name: sellercity, dtype: object"
      ]
     },
     "execution_count": 49,
     "metadata": {},
     "output_type": "execute_result"
    }
   ],
   "source": [
    "i = 0\n",
    "temp = whole_data[data_cols[i]].copy()\n",
    "temp.head()"
   ]
  },
  {
   "cell_type": "code",
   "execution_count": 50,
   "metadata": {},
   "outputs": [
    {
     "data": {
      "text/plain": [
       "Chicago            0.021903\n",
       "Battle Creek       0.021652\n",
       "Columbus           0.010826\n",
       "Louisville         0.010070\n",
       "Atlanta            0.007805\n",
       "White Bear Lake    0.007301\n",
       "Palmyra            0.007301\n",
       "Dallas             0.007049\n",
       "Richmond           0.007049\n",
       "Raleigh            0.007049\n",
       "Name: sellercity, dtype: float64"
      ]
     },
     "execution_count": 50,
     "metadata": {},
     "output_type": "execute_result"
    }
   ],
   "source": [
    "(temp.value_counts() / temp.size).head(10)"
   ]
  },
  {
   "cell_type": "code",
   "execution_count": 51,
   "metadata": {},
   "outputs": [],
   "source": [
    "# delete the city column, too many categories to add value to our analysis.\n",
    "drop_features.append(data_cols[i])\n",
    "i += 1"
   ]
  },
  {
   "cell_type": "code",
   "execution_count": null,
   "metadata": {},
   "outputs": [],
   "source": [
    "temp = whole_data[data_cols[i]].copy()\n",
    "temp.head(), temp.value_counts()"
   ]
  },
  {
   "cell_type": "code",
   "execution_count": null,
   "metadata": {},
   "outputs": [],
   "source": [
    "# too imbalanced to be worth keeping\n",
    "drop_features.append(data_cols[i])\n",
    "i += 1"
   ]
  },
  {
   "cell_type": "code",
   "execution_count": null,
   "metadata": {},
   "outputs": [],
   "source": [
    "temp = whole_data[data_cols[i]].copy()\n",
    "temp.head()"
   ]
  },
  {
   "cell_type": "code",
   "execution_count": null,
   "metadata": {},
   "outputs": [],
   "source": [
    "temp.value_counts() / temp.size"
   ]
  },
  {
   "cell_type": "code",
   "execution_count": null,
   "metadata": {},
   "outputs": [],
   "source": [
    "temp = bin_sellerlistsrc(temp)\n",
    "temp.value_counts() / temp.size"
   ]
  },
  {
   "cell_type": "code",
   "execution_count": null,
   "metadata": {},
   "outputs": [],
   "source": [
    "# save this in the list of categorical features\n",
    "categorical_features.append(data_cols[i])\n",
    "i += 1"
   ]
  },
  {
   "cell_type": "code",
   "execution_count": null,
   "metadata": {},
   "outputs": [],
   "source": [
    "temp = whole_data[data_cols[i]].copy()\n",
    "temp.head()"
   ]
  },
  {
   "cell_type": "code",
   "execution_count": null,
   "metadata": {},
   "outputs": [],
   "source": [
    "temp.value_counts() / temp.size"
   ]
  },
  {
   "cell_type": "code",
   "execution_count": null,
   "metadata": {},
   "outputs": [],
   "source": [
    "drop_features.append(data_cols[i])\n",
    "i += 1"
   ]
  },
  {
   "cell_type": "code",
   "execution_count": null,
   "metadata": {},
   "outputs": [],
   "source": [
    "temp = whole_data[data_cols[i]].copy()\n",
    "temp.head()"
   ]
  },
  {
   "cell_type": "code",
   "execution_count": null,
   "metadata": {},
   "outputs": [],
   "source": [
    "fig, ax = plt.subplots(figsize=(15,8))\n",
    "sns.histplot(temp, kde=True, ax=ax);"
   ]
  },
  {
   "cell_type": "code",
   "execution_count": null,
   "metadata": {},
   "outputs": [],
   "source": [
    "#bin this one by rounding, but also keep the original as numeric\n",
    "categorical_features.append(data_cols[i] + '_round')\n",
    "numeric_features.append(data_cols[i])\n",
    "i += 1"
   ]
  },
  {
   "cell_type": "code",
   "execution_count": null,
   "metadata": {},
   "outputs": [],
   "source": [
    "temp = whole_data[data_cols[i]].copy()\n",
    "temp.head()"
   ]
  },
  {
   "cell_type": "code",
   "execution_count": null,
   "metadata": {},
   "outputs": [],
   "source": [
    "fig, axes = plt.subplots(ncols=2, figsize=(20,8))\n",
    "sns.histplot(temp, kde=True, ax=axes[0])\n",
    "axes[1].set_title('Original Distribution')\n",
    "\n",
    "sns.histplot(np.log(temp), kde=True, ax=axes[1])\n",
    "axes[1].set_title('Log Distribution');"
   ]
  },
  {
   "cell_type": "code",
   "execution_count": null,
   "metadata": {},
   "outputs": [],
   "source": [
    "# do a log transform and keep numeric\n",
    "numeric_features.append(data_cols[i]+ '_log')\n",
    "i+= 1"
   ]
  },
  {
   "cell_type": "code",
   "execution_count": null,
   "metadata": {},
   "outputs": [],
   "source": [
    "temp = whole_data[data_cols[i]].copy()\n",
    "temp.head()"
   ]
  },
  {
   "cell_type": "code",
   "execution_count": null,
   "metadata": {},
   "outputs": [],
   "source": [
    "temp.value_counts().head(5).append(temp.value_counts().tail(5))"
   ]
  },
  {
   "cell_type": "code",
   "execution_count": null,
   "metadata": {},
   "outputs": [],
   "source": [
    "# keep all of these, we will one-hot encode them and then select features later\n",
    "categorical_features.append(data_cols[i])\n",
    "i+= 1"
   ]
  },
  {
   "cell_type": "code",
   "execution_count": null,
   "metadata": {},
   "outputs": [],
   "source": [
    "temp=whole_data[data_cols[i]].copy()\n",
    "temp.head()"
   ]
  },
  {
   "cell_type": "code",
   "execution_count": null,
   "metadata": {},
   "outputs": [],
   "source": [
    "temp.unique().size"
   ]
  },
  {
   "cell_type": "code",
   "execution_count": null,
   "metadata": {},
   "outputs": [],
   "source": [
    "# drop this feature.  Too complex to work with.\n",
    "#If I could bring in new data, I would like to chaneg these to coordinates,\n",
    "# then see if we could use the numeric coordinates data to find centers where prices/packages differ\n",
    "drop_features.append(data_cols[i])\n",
    "i += 1"
   ]
  },
  {
   "cell_type": "code",
   "execution_count": null,
   "metadata": {},
   "outputs": [],
   "source": [
    "temp = whole_data[data_cols[i]].copy()\n",
    "temp.head()"
   ]
  },
  {
   "cell_type": "code",
   "execution_count": null,
   "metadata": {},
   "outputs": [],
   "source": [
    "temp.value_counts()"
   ]
  },
  {
   "cell_type": "code",
   "execution_count": null,
   "metadata": {},
   "outputs": [],
   "source": [
    "#All of these are SUVs...Drop this column\n",
    "drop_features.append(data_cols[i])\n",
    "i += 1"
   ]
  },
  {
   "cell_type": "code",
   "execution_count": null,
   "metadata": {},
   "outputs": [],
   "source": [
    "temp=whole_data[data_cols[i]].copy()\n",
    "temp.head()"
   ]
  },
  {
   "cell_type": "code",
   "execution_count": null,
   "metadata": {},
   "outputs": [],
   "source": [
    "temp.value_counts()"
   ]
  },
  {
   "cell_type": "code",
   "execution_count": null,
   "metadata": {},
   "outputs": [],
   "source": [
    "#keep as categorical\n",
    "categorical_features.append(data_cols[i])\n",
    "i += 1"
   ]
  },
  {
   "cell_type": "code",
   "execution_count": null,
   "metadata": {},
   "outputs": [],
   "source": [
    "temp=whole_data[data_cols[i]].copy()\n",
    "temp.head()"
   ]
  },
  {
   "cell_type": "code",
   "execution_count": null,
   "metadata": {},
   "outputs": [],
   "source": [
    "temp=bin_vehcolorext(temp)\n",
    "temp.value_counts()"
   ]
  },
  {
   "cell_type": "code",
   "execution_count": null,
   "metadata": {},
   "outputs": [],
   "source": [
    "#Categorical Feature!\n",
    "categorical_features.append(data_cols[i])\n",
    "i += 1"
   ]
  },
  {
   "cell_type": "code",
   "execution_count": null,
   "metadata": {},
   "outputs": [],
   "source": [
    "temp = whole_data[data_cols[i]].copy()\n",
    "temp.head()"
   ]
  },
  {
   "cell_type": "code",
   "execution_count": null,
   "metadata": {},
   "outputs": [],
   "source": [
    "temp.value_counts()"
   ]
  },
  {
   "cell_type": "code",
   "execution_count": null,
   "metadata": {},
   "outputs": [],
   "source": [
    "temp = bin_vehcolorint(temp)\n",
    "temp.value_counts()"
   ]
  },
  {
   "cell_type": "code",
   "execution_count": null,
   "metadata": {},
   "outputs": [],
   "source": [
    "#bin this one, then keep as categorical variable\n",
    "categorical_features.append(data_cols[i])\n",
    "i += 1"
   ]
  },
  {
   "cell_type": "code",
   "execution_count": null,
   "metadata": {},
   "outputs": [],
   "source": [
    "temp = whole_data[data_cols[i]].copy()\n",
    "temp.head()"
   ]
  },
  {
   "cell_type": "code",
   "execution_count": null,
   "metadata": {},
   "outputs": [],
   "source": [
    "temp = bin_vehdrivetrain(temp)\n",
    "temp.value_counts()"
   ]
  },
  {
   "cell_type": "code",
   "execution_count": null,
   "metadata": {},
   "outputs": [],
   "source": []
  }
 ],
 "metadata": {
  "kernelspec": {
   "display_name": "Python 3",
   "language": "python",
   "name": "python3"
  },
  "language_info": {
   "codemirror_mode": {
    "name": "ipython",
    "version": 3
   },
   "file_extension": ".py",
   "mimetype": "text/x-python",
   "name": "python",
   "nbconvert_exporter": "python",
   "pygments_lexer": "ipython3",
   "version": "3.7.6"
  }
 },
 "nbformat": 4,
 "nbformat_minor": 4
}
